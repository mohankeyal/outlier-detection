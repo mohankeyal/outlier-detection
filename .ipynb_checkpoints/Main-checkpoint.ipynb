{
 "cells": [
  {
   "cell_type": "code",
   "execution_count": 1,
   "metadata": {},
   "outputs": [],
   "source": [
    "import numpy as np\n",
    "import pandas as pd\n",
    "import matplotlib.pyplot as plt\n",
    "from sklearn.neighbors import KNeighborsClassifier\n",
    "from sklearn.decomposition import PCA\n",
    "from sklearn.svm import SVC\n",
    "from sklearn.metrics import roc_curve\n",
    "from sklearn.metrics import auc\n",
    "from sklearn.model_selection import train_test_split\n",
    "from sklearn.linear_model import LogisticRegression\n",
    "from sklearn.pipeline import make_pipeline\n",
    "from sklearn.preprocessing import StandardScaler\n",
    "from sklearn.datasets import make_classification\n",
    "from sklearn.metrics import precision_recall_curve\n",
    "from sklearn.metrics import f1_score\n",
    "from sklearn.ensemble import StackingClassifier\n",
    "from sklearn.ensemble import IsolationForest\n",
    "import seaborn as sns"
   ]
  },
  {
   "cell_type": "code",
   "execution_count": 2,
   "metadata": {},
   "outputs": [
    {
     "data": {
      "text/html": [
       "<div>\n",
       "<style scoped>\n",
       "    .dataframe tbody tr th:only-of-type {\n",
       "        vertical-align: middle;\n",
       "    }\n",
       "\n",
       "    .dataframe tbody tr th {\n",
       "        vertical-align: top;\n",
       "    }\n",
       "\n",
       "    .dataframe thead th {\n",
       "        text-align: right;\n",
       "    }\n",
       "</style>\n",
       "<table border=\"1\" class=\"dataframe\">\n",
       "  <thead>\n",
       "    <tr style=\"text-align: right;\">\n",
       "      <th></th>\n",
       "      <th>rss1</th>\n",
       "      <th>rss2</th>\n",
       "      <th>rss3</th>\n",
       "      <th>rss4</th>\n",
       "      <th>rss5</th>\n",
       "      <th>rss6</th>\n",
       "      <th>rss7</th>\n",
       "      <th>y</th>\n",
       "    </tr>\n",
       "  </thead>\n",
       "  <tbody>\n",
       "    <tr>\n",
       "      <th>0</th>\n",
       "      <td>-64</td>\n",
       "      <td>-56</td>\n",
       "      <td>-61</td>\n",
       "      <td>-66</td>\n",
       "      <td>-71</td>\n",
       "      <td>-82</td>\n",
       "      <td>-81</td>\n",
       "      <td>1</td>\n",
       "    </tr>\n",
       "    <tr>\n",
       "      <th>1</th>\n",
       "      <td>-68</td>\n",
       "      <td>-57</td>\n",
       "      <td>-61</td>\n",
       "      <td>-65</td>\n",
       "      <td>-71</td>\n",
       "      <td>-85</td>\n",
       "      <td>-85</td>\n",
       "      <td>1</td>\n",
       "    </tr>\n",
       "    <tr>\n",
       "      <th>2</th>\n",
       "      <td>-63</td>\n",
       "      <td>-60</td>\n",
       "      <td>-60</td>\n",
       "      <td>-67</td>\n",
       "      <td>-76</td>\n",
       "      <td>-85</td>\n",
       "      <td>-84</td>\n",
       "      <td>1</td>\n",
       "    </tr>\n",
       "    <tr>\n",
       "      <th>3</th>\n",
       "      <td>-61</td>\n",
       "      <td>-60</td>\n",
       "      <td>-68</td>\n",
       "      <td>-62</td>\n",
       "      <td>-77</td>\n",
       "      <td>-90</td>\n",
       "      <td>-80</td>\n",
       "      <td>1</td>\n",
       "    </tr>\n",
       "    <tr>\n",
       "      <th>4</th>\n",
       "      <td>-63</td>\n",
       "      <td>-65</td>\n",
       "      <td>-60</td>\n",
       "      <td>-63</td>\n",
       "      <td>-77</td>\n",
       "      <td>-81</td>\n",
       "      <td>-87</td>\n",
       "      <td>1</td>\n",
       "    </tr>\n",
       "  </tbody>\n",
       "</table>\n",
       "</div>"
      ],
      "text/plain": [
       "   rss1  rss2  rss3  rss4  rss5  rss6  rss7  y\n",
       "0   -64   -56   -61   -66   -71   -82   -81  1\n",
       "1   -68   -57   -61   -65   -71   -85   -85  1\n",
       "2   -63   -60   -60   -67   -76   -85   -84  1\n",
       "3   -61   -60   -68   -62   -77   -90   -80  1\n",
       "4   -63   -65   -60   -63   -77   -81   -87  1"
      ]
     },
     "execution_count": 2,
     "metadata": {},
     "output_type": "execute_result"
    }
   ],
   "source": [
    "data = pd.read_csv(\"wifi_localization.txt\", sep=\"\\t\",names=['rss1','rss2','rss3','rss4','rss5','rss6','rss7','y'])\n",
    "data.head()"
   ]
  },
  {
   "cell_type": "code",
   "execution_count": 3,
   "metadata": {},
   "outputs": [
    {
     "data": {
      "text/html": [
       "<div>\n",
       "<style scoped>\n",
       "    .dataframe tbody tr th:only-of-type {\n",
       "        vertical-align: middle;\n",
       "    }\n",
       "\n",
       "    .dataframe tbody tr th {\n",
       "        vertical-align: top;\n",
       "    }\n",
       "\n",
       "    .dataframe thead th {\n",
       "        text-align: right;\n",
       "    }\n",
       "</style>\n",
       "<table border=\"1\" class=\"dataframe\">\n",
       "  <thead>\n",
       "    <tr style=\"text-align: right;\">\n",
       "      <th></th>\n",
       "      <th>rss1</th>\n",
       "      <th>rss2</th>\n",
       "      <th>rss3</th>\n",
       "      <th>rss4</th>\n",
       "      <th>rss5</th>\n",
       "      <th>rss6</th>\n",
       "      <th>rss7</th>\n",
       "      <th>y</th>\n",
       "    </tr>\n",
       "  </thead>\n",
       "  <tbody>\n",
       "    <tr>\n",
       "      <th>0</th>\n",
       "      <td>-64</td>\n",
       "      <td>-56</td>\n",
       "      <td>-61</td>\n",
       "      <td>-66</td>\n",
       "      <td>-71</td>\n",
       "      <td>-82</td>\n",
       "      <td>-81</td>\n",
       "      <td>1</td>\n",
       "    </tr>\n",
       "    <tr>\n",
       "      <th>1</th>\n",
       "      <td>-68</td>\n",
       "      <td>-57</td>\n",
       "      <td>-61</td>\n",
       "      <td>-65</td>\n",
       "      <td>-71</td>\n",
       "      <td>-85</td>\n",
       "      <td>-85</td>\n",
       "      <td>1</td>\n",
       "    </tr>\n",
       "    <tr>\n",
       "      <th>2</th>\n",
       "      <td>-63</td>\n",
       "      <td>-60</td>\n",
       "      <td>-60</td>\n",
       "      <td>-67</td>\n",
       "      <td>-76</td>\n",
       "      <td>-85</td>\n",
       "      <td>-84</td>\n",
       "      <td>1</td>\n",
       "    </tr>\n",
       "    <tr>\n",
       "      <th>3</th>\n",
       "      <td>-61</td>\n",
       "      <td>-60</td>\n",
       "      <td>-68</td>\n",
       "      <td>-62</td>\n",
       "      <td>-77</td>\n",
       "      <td>-90</td>\n",
       "      <td>-80</td>\n",
       "      <td>1</td>\n",
       "    </tr>\n",
       "    <tr>\n",
       "      <th>4</th>\n",
       "      <td>-63</td>\n",
       "      <td>-65</td>\n",
       "      <td>-60</td>\n",
       "      <td>-63</td>\n",
       "      <td>-77</td>\n",
       "      <td>-81</td>\n",
       "      <td>-87</td>\n",
       "      <td>1</td>\n",
       "    </tr>\n",
       "    <tr>\n",
       "      <th>...</th>\n",
       "      <td>...</td>\n",
       "      <td>...</td>\n",
       "      <td>...</td>\n",
       "      <td>...</td>\n",
       "      <td>...</td>\n",
       "      <td>...</td>\n",
       "      <td>...</td>\n",
       "      <td>...</td>\n",
       "    </tr>\n",
       "    <tr>\n",
       "      <th>1995</th>\n",
       "      <td>-59</td>\n",
       "      <td>-59</td>\n",
       "      <td>-48</td>\n",
       "      <td>-66</td>\n",
       "      <td>-50</td>\n",
       "      <td>-86</td>\n",
       "      <td>-94</td>\n",
       "      <td>4</td>\n",
       "    </tr>\n",
       "    <tr>\n",
       "      <th>1996</th>\n",
       "      <td>-59</td>\n",
       "      <td>-56</td>\n",
       "      <td>-50</td>\n",
       "      <td>-62</td>\n",
       "      <td>-47</td>\n",
       "      <td>-87</td>\n",
       "      <td>-90</td>\n",
       "      <td>4</td>\n",
       "    </tr>\n",
       "    <tr>\n",
       "      <th>1997</th>\n",
       "      <td>-62</td>\n",
       "      <td>-59</td>\n",
       "      <td>-46</td>\n",
       "      <td>-65</td>\n",
       "      <td>-45</td>\n",
       "      <td>-87</td>\n",
       "      <td>-88</td>\n",
       "      <td>4</td>\n",
       "    </tr>\n",
       "    <tr>\n",
       "      <th>1998</th>\n",
       "      <td>-62</td>\n",
       "      <td>-58</td>\n",
       "      <td>-52</td>\n",
       "      <td>-61</td>\n",
       "      <td>-41</td>\n",
       "      <td>-90</td>\n",
       "      <td>-85</td>\n",
       "      <td>4</td>\n",
       "    </tr>\n",
       "    <tr>\n",
       "      <th>1999</th>\n",
       "      <td>-59</td>\n",
       "      <td>-50</td>\n",
       "      <td>-45</td>\n",
       "      <td>-60</td>\n",
       "      <td>-45</td>\n",
       "      <td>-88</td>\n",
       "      <td>-87</td>\n",
       "      <td>4</td>\n",
       "    </tr>\n",
       "  </tbody>\n",
       "</table>\n",
       "<p>2000 rows × 8 columns</p>\n",
       "</div>"
      ],
      "text/plain": [
       "      rss1  rss2  rss3  rss4  rss5  rss6  rss7  y\n",
       "0      -64   -56   -61   -66   -71   -82   -81  1\n",
       "1      -68   -57   -61   -65   -71   -85   -85  1\n",
       "2      -63   -60   -60   -67   -76   -85   -84  1\n",
       "3      -61   -60   -68   -62   -77   -90   -80  1\n",
       "4      -63   -65   -60   -63   -77   -81   -87  1\n",
       "...    ...   ...   ...   ...   ...   ...   ... ..\n",
       "1995   -59   -59   -48   -66   -50   -86   -94  4\n",
       "1996   -59   -56   -50   -62   -47   -87   -90  4\n",
       "1997   -62   -59   -46   -65   -45   -87   -88  4\n",
       "1998   -62   -58   -52   -61   -41   -90   -85  4\n",
       "1999   -59   -50   -45   -60   -45   -88   -87  4\n",
       "\n",
       "[2000 rows x 8 columns]"
      ]
     },
     "execution_count": 3,
     "metadata": {},
     "output_type": "execute_result"
    }
   ],
   "source": [
    "data"
   ]
  },
  {
   "cell_type": "code",
   "execution_count": 4,
   "metadata": {},
   "outputs": [
    {
     "data": {
      "text/html": [
       "<div>\n",
       "<style scoped>\n",
       "    .dataframe tbody tr th:only-of-type {\n",
       "        vertical-align: middle;\n",
       "    }\n",
       "\n",
       "    .dataframe tbody tr th {\n",
       "        vertical-align: top;\n",
       "    }\n",
       "\n",
       "    .dataframe thead th {\n",
       "        text-align: right;\n",
       "    }\n",
       "</style>\n",
       "<table border=\"1\" class=\"dataframe\">\n",
       "  <thead>\n",
       "    <tr style=\"text-align: right;\">\n",
       "      <th></th>\n",
       "      <th>rss1</th>\n",
       "      <th>rss2</th>\n",
       "      <th>rss3</th>\n",
       "      <th>rss4</th>\n",
       "      <th>rss5</th>\n",
       "      <th>rss6</th>\n",
       "      <th>rss7</th>\n",
       "    </tr>\n",
       "  </thead>\n",
       "  <tbody>\n",
       "    <tr>\n",
       "      <th>0</th>\n",
       "      <td>-64</td>\n",
       "      <td>-56</td>\n",
       "      <td>-61</td>\n",
       "      <td>-66</td>\n",
       "      <td>-71</td>\n",
       "      <td>-82</td>\n",
       "      <td>-81</td>\n",
       "    </tr>\n",
       "    <tr>\n",
       "      <th>1</th>\n",
       "      <td>-68</td>\n",
       "      <td>-57</td>\n",
       "      <td>-61</td>\n",
       "      <td>-65</td>\n",
       "      <td>-71</td>\n",
       "      <td>-85</td>\n",
       "      <td>-85</td>\n",
       "    </tr>\n",
       "    <tr>\n",
       "      <th>2</th>\n",
       "      <td>-63</td>\n",
       "      <td>-60</td>\n",
       "      <td>-60</td>\n",
       "      <td>-67</td>\n",
       "      <td>-76</td>\n",
       "      <td>-85</td>\n",
       "      <td>-84</td>\n",
       "    </tr>\n",
       "    <tr>\n",
       "      <th>3</th>\n",
       "      <td>-61</td>\n",
       "      <td>-60</td>\n",
       "      <td>-68</td>\n",
       "      <td>-62</td>\n",
       "      <td>-77</td>\n",
       "      <td>-90</td>\n",
       "      <td>-80</td>\n",
       "    </tr>\n",
       "    <tr>\n",
       "      <th>4</th>\n",
       "      <td>-63</td>\n",
       "      <td>-65</td>\n",
       "      <td>-60</td>\n",
       "      <td>-63</td>\n",
       "      <td>-77</td>\n",
       "      <td>-81</td>\n",
       "      <td>-87</td>\n",
       "    </tr>\n",
       "    <tr>\n",
       "      <th>...</th>\n",
       "      <td>...</td>\n",
       "      <td>...</td>\n",
       "      <td>...</td>\n",
       "      <td>...</td>\n",
       "      <td>...</td>\n",
       "      <td>...</td>\n",
       "      <td>...</td>\n",
       "    </tr>\n",
       "    <tr>\n",
       "      <th>1995</th>\n",
       "      <td>-59</td>\n",
       "      <td>-59</td>\n",
       "      <td>-48</td>\n",
       "      <td>-66</td>\n",
       "      <td>-50</td>\n",
       "      <td>-86</td>\n",
       "      <td>-94</td>\n",
       "    </tr>\n",
       "    <tr>\n",
       "      <th>1996</th>\n",
       "      <td>-59</td>\n",
       "      <td>-56</td>\n",
       "      <td>-50</td>\n",
       "      <td>-62</td>\n",
       "      <td>-47</td>\n",
       "      <td>-87</td>\n",
       "      <td>-90</td>\n",
       "    </tr>\n",
       "    <tr>\n",
       "      <th>1997</th>\n",
       "      <td>-62</td>\n",
       "      <td>-59</td>\n",
       "      <td>-46</td>\n",
       "      <td>-65</td>\n",
       "      <td>-45</td>\n",
       "      <td>-87</td>\n",
       "      <td>-88</td>\n",
       "    </tr>\n",
       "    <tr>\n",
       "      <th>1998</th>\n",
       "      <td>-62</td>\n",
       "      <td>-58</td>\n",
       "      <td>-52</td>\n",
       "      <td>-61</td>\n",
       "      <td>-41</td>\n",
       "      <td>-90</td>\n",
       "      <td>-85</td>\n",
       "    </tr>\n",
       "    <tr>\n",
       "      <th>1999</th>\n",
       "      <td>-59</td>\n",
       "      <td>-50</td>\n",
       "      <td>-45</td>\n",
       "      <td>-60</td>\n",
       "      <td>-45</td>\n",
       "      <td>-88</td>\n",
       "      <td>-87</td>\n",
       "    </tr>\n",
       "  </tbody>\n",
       "</table>\n",
       "<p>2000 rows × 7 columns</p>\n",
       "</div>"
      ],
      "text/plain": [
       "      rss1  rss2  rss3  rss4  rss5  rss6  rss7\n",
       "0      -64   -56   -61   -66   -71   -82   -81\n",
       "1      -68   -57   -61   -65   -71   -85   -85\n",
       "2      -63   -60   -60   -67   -76   -85   -84\n",
       "3      -61   -60   -68   -62   -77   -90   -80\n",
       "4      -63   -65   -60   -63   -77   -81   -87\n",
       "...    ...   ...   ...   ...   ...   ...   ...\n",
       "1995   -59   -59   -48   -66   -50   -86   -94\n",
       "1996   -59   -56   -50   -62   -47   -87   -90\n",
       "1997   -62   -59   -46   -65   -45   -87   -88\n",
       "1998   -62   -58   -52   -61   -41   -90   -85\n",
       "1999   -59   -50   -45   -60   -45   -88   -87\n",
       "\n",
       "[2000 rows x 7 columns]"
      ]
     },
     "execution_count": 4,
     "metadata": {},
     "output_type": "execute_result"
    }
   ],
   "source": [
    "X = data.drop(\"y\", axis=1)\n",
    "X"
   ]
  },
  {
   "cell_type": "code",
   "execution_count": 5,
   "metadata": {},
   "outputs": [
    {
     "data": {
      "text/plain": [
       "array([[-1.03097968, -0.11018976, -1.13568438, ..., -0.91834219,\n",
       "        -0.15579331,  0.11145746],\n",
       "       [-1.3843726 , -0.40285844, -1.13568438, ..., -0.91834219,\n",
       "        -0.61626615, -0.50221058],\n",
       "       [-0.94263145, -1.28086447, -0.94753256, ..., -1.46762276,\n",
       "        -0.61626615, -0.34879357],\n",
       "       ...,\n",
       "       [-0.85428322, -0.98819579,  1.68659291, ...,  1.93791679,\n",
       "        -0.92324805, -0.96246161],\n",
       "       [-0.85428322, -0.69552712,  0.55768199, ...,  2.37734124,\n",
       "        -1.38372089, -0.50221058],\n",
       "       [-0.58923853,  1.64582232,  1.87474473, ...,  1.93791679,\n",
       "        -1.07673899, -0.8090446 ]])"
      ]
     },
     "execution_count": 5,
     "metadata": {},
     "output_type": "execute_result"
    }
   ],
   "source": [
    "X = StandardScaler().fit_transform(X) # normalizing the features\n",
    "X"
   ]
  },
  {
   "cell_type": "code",
   "execution_count": 6,
   "metadata": {},
   "outputs": [
    {
     "data": {
      "text/plain": [
       "(2000, 7)"
      ]
     },
     "execution_count": 6,
     "metadata": {},
     "output_type": "execute_result"
    }
   ],
   "source": [
    "X.shape"
   ]
  },
  {
   "cell_type": "code",
   "execution_count": 7,
   "metadata": {},
   "outputs": [
    {
     "data": {
      "text/plain": [
       "(1.2180732613030288e-17, 1.0)"
      ]
     },
     "execution_count": 7,
     "metadata": {},
     "output_type": "execute_result"
    }
   ],
   "source": [
    "np.mean(X),np.std(X)"
   ]
  },
  {
   "cell_type": "code",
   "execution_count": 8,
   "metadata": {},
   "outputs": [
    {
     "data": {
      "text/plain": [
       "['rss0', 'rss1', 'rss2', 'rss3', 'rss4', 'rss5', 'rss6']"
      ]
     },
     "execution_count": 8,
     "metadata": {},
     "output_type": "execute_result"
    }
   ],
   "source": [
    "feat_cols = ['rss'+str(i) for i in range(X.shape[1])]\n",
    "feat_cols"
   ]
  },
  {
   "cell_type": "code",
   "execution_count": 9,
   "metadata": {},
   "outputs": [
    {
     "data": {
      "text/html": [
       "<div>\n",
       "<style scoped>\n",
       "    .dataframe tbody tr th:only-of-type {\n",
       "        vertical-align: middle;\n",
       "    }\n",
       "\n",
       "    .dataframe tbody tr th {\n",
       "        vertical-align: top;\n",
       "    }\n",
       "\n",
       "    .dataframe thead th {\n",
       "        text-align: right;\n",
       "    }\n",
       "</style>\n",
       "<table border=\"1\" class=\"dataframe\">\n",
       "  <thead>\n",
       "    <tr style=\"text-align: right;\">\n",
       "      <th></th>\n",
       "      <th>rss0</th>\n",
       "      <th>rss1</th>\n",
       "      <th>rss2</th>\n",
       "      <th>rss3</th>\n",
       "      <th>rss4</th>\n",
       "      <th>rss5</th>\n",
       "      <th>rss6</th>\n",
       "    </tr>\n",
       "  </thead>\n",
       "  <tbody>\n",
       "    <tr>\n",
       "      <th>0</th>\n",
       "      <td>-1.030980</td>\n",
       "      <td>-0.110190</td>\n",
       "      <td>-1.135684</td>\n",
       "      <td>-1.084085</td>\n",
       "      <td>-0.918342</td>\n",
       "      <td>-0.155793</td>\n",
       "      <td>0.111457</td>\n",
       "    </tr>\n",
       "    <tr>\n",
       "      <th>1</th>\n",
       "      <td>-1.384373</td>\n",
       "      <td>-0.402858</td>\n",
       "      <td>-1.135684</td>\n",
       "      <td>-0.996895</td>\n",
       "      <td>-0.918342</td>\n",
       "      <td>-0.616266</td>\n",
       "      <td>-0.502211</td>\n",
       "    </tr>\n",
       "    <tr>\n",
       "      <th>2</th>\n",
       "      <td>-0.942631</td>\n",
       "      <td>-1.280864</td>\n",
       "      <td>-0.947533</td>\n",
       "      <td>-1.171276</td>\n",
       "      <td>-1.467623</td>\n",
       "      <td>-0.616266</td>\n",
       "      <td>-0.348794</td>\n",
       "    </tr>\n",
       "    <tr>\n",
       "      <th>3</th>\n",
       "      <td>-0.765935</td>\n",
       "      <td>-1.280864</td>\n",
       "      <td>-2.452747</td>\n",
       "      <td>-0.735323</td>\n",
       "      <td>-1.577479</td>\n",
       "      <td>-1.383721</td>\n",
       "      <td>0.264874</td>\n",
       "    </tr>\n",
       "    <tr>\n",
       "      <th>4</th>\n",
       "      <td>-0.942631</td>\n",
       "      <td>-2.744208</td>\n",
       "      <td>-0.947533</td>\n",
       "      <td>-0.822513</td>\n",
       "      <td>-1.577479</td>\n",
       "      <td>-0.002302</td>\n",
       "      <td>-0.809045</td>\n",
       "    </tr>\n",
       "    <tr>\n",
       "      <th>...</th>\n",
       "      <td>...</td>\n",
       "      <td>...</td>\n",
       "      <td>...</td>\n",
       "      <td>...</td>\n",
       "      <td>...</td>\n",
       "      <td>...</td>\n",
       "      <td>...</td>\n",
       "    </tr>\n",
       "    <tr>\n",
       "      <th>1995</th>\n",
       "      <td>-0.589239</td>\n",
       "      <td>-0.988196</td>\n",
       "      <td>1.310289</td>\n",
       "      <td>-1.084085</td>\n",
       "      <td>1.388636</td>\n",
       "      <td>-0.769757</td>\n",
       "      <td>-1.882964</td>\n",
       "    </tr>\n",
       "    <tr>\n",
       "      <th>1996</th>\n",
       "      <td>-0.589239</td>\n",
       "      <td>-0.110190</td>\n",
       "      <td>0.933986</td>\n",
       "      <td>-0.735323</td>\n",
       "      <td>1.718205</td>\n",
       "      <td>-0.923248</td>\n",
       "      <td>-1.269296</td>\n",
       "    </tr>\n",
       "    <tr>\n",
       "      <th>1997</th>\n",
       "      <td>-0.854283</td>\n",
       "      <td>-0.988196</td>\n",
       "      <td>1.686593</td>\n",
       "      <td>-0.996895</td>\n",
       "      <td>1.937917</td>\n",
       "      <td>-0.923248</td>\n",
       "      <td>-0.962462</td>\n",
       "    </tr>\n",
       "    <tr>\n",
       "      <th>1998</th>\n",
       "      <td>-0.854283</td>\n",
       "      <td>-0.695527</td>\n",
       "      <td>0.557682</td>\n",
       "      <td>-0.648132</td>\n",
       "      <td>2.377341</td>\n",
       "      <td>-1.383721</td>\n",
       "      <td>-0.502211</td>\n",
       "    </tr>\n",
       "    <tr>\n",
       "      <th>1999</th>\n",
       "      <td>-0.589239</td>\n",
       "      <td>1.645822</td>\n",
       "      <td>1.874745</td>\n",
       "      <td>-0.560941</td>\n",
       "      <td>1.937917</td>\n",
       "      <td>-1.076739</td>\n",
       "      <td>-0.809045</td>\n",
       "    </tr>\n",
       "  </tbody>\n",
       "</table>\n",
       "<p>2000 rows × 7 columns</p>\n",
       "</div>"
      ],
      "text/plain": [
       "          rss0      rss1      rss2      rss3      rss4      rss5      rss6\n",
       "0    -1.030980 -0.110190 -1.135684 -1.084085 -0.918342 -0.155793  0.111457\n",
       "1    -1.384373 -0.402858 -1.135684 -0.996895 -0.918342 -0.616266 -0.502211\n",
       "2    -0.942631 -1.280864 -0.947533 -1.171276 -1.467623 -0.616266 -0.348794\n",
       "3    -0.765935 -1.280864 -2.452747 -0.735323 -1.577479 -1.383721  0.264874\n",
       "4    -0.942631 -2.744208 -0.947533 -0.822513 -1.577479 -0.002302 -0.809045\n",
       "...        ...       ...       ...       ...       ...       ...       ...\n",
       "1995 -0.589239 -0.988196  1.310289 -1.084085  1.388636 -0.769757 -1.882964\n",
       "1996 -0.589239 -0.110190  0.933986 -0.735323  1.718205 -0.923248 -1.269296\n",
       "1997 -0.854283 -0.988196  1.686593 -0.996895  1.937917 -0.923248 -0.962462\n",
       "1998 -0.854283 -0.695527  0.557682 -0.648132  2.377341 -1.383721 -0.502211\n",
       "1999 -0.589239  1.645822  1.874745 -0.560941  1.937917 -1.076739 -0.809045\n",
       "\n",
       "[2000 rows x 7 columns]"
      ]
     },
     "execution_count": 9,
     "metadata": {},
     "output_type": "execute_result"
    }
   ],
   "source": [
    "normalised_breast = pd.DataFrame(X,columns=feat_cols)\n",
    "normalised_breast"
   ]
  },
  {
   "cell_type": "code",
   "execution_count": 10,
   "metadata": {},
   "outputs": [
    {
     "data": {
      "text/plain": [
       "array([[-0.71511736,  1.68190782],\n",
       "       [-1.3503284 ,  1.88957907],\n",
       "       [-1.00792709,  2.39459015],\n",
       "       ...,\n",
       "       [-2.44230071, -1.38005557],\n",
       "       [-2.31429822, -1.0592983 ],\n",
       "       [-2.1323413 , -2.76388596]])"
      ]
     },
     "execution_count": 10,
     "metadata": {},
     "output_type": "execute_result"
    }
   ],
   "source": [
    "pca_model = PCA(n_components=2)\n",
    "principalComponents_data = pca_model.fit_transform(X)\n",
    "principalComponents_data"
   ]
  },
  {
   "cell_type": "code",
   "execution_count": 11,
   "metadata": {},
   "outputs": [
    {
     "data": {
      "text/html": [
       "<div>\n",
       "<style scoped>\n",
       "    .dataframe tbody tr th:only-of-type {\n",
       "        vertical-align: middle;\n",
       "    }\n",
       "\n",
       "    .dataframe tbody tr th {\n",
       "        vertical-align: top;\n",
       "    }\n",
       "\n",
       "    .dataframe thead th {\n",
       "        text-align: right;\n",
       "    }\n",
       "</style>\n",
       "<table border=\"1\" class=\"dataframe\">\n",
       "  <thead>\n",
       "    <tr style=\"text-align: right;\">\n",
       "      <th></th>\n",
       "      <th>principal component 1</th>\n",
       "      <th>principal component 2</th>\n",
       "    </tr>\n",
       "  </thead>\n",
       "  <tbody>\n",
       "    <tr>\n",
       "      <th>0</th>\n",
       "      <td>-0.715117</td>\n",
       "      <td>1.681908</td>\n",
       "    </tr>\n",
       "    <tr>\n",
       "      <th>1</th>\n",
       "      <td>-1.350328</td>\n",
       "      <td>1.889579</td>\n",
       "    </tr>\n",
       "    <tr>\n",
       "      <th>2</th>\n",
       "      <td>-1.007927</td>\n",
       "      <td>2.394590</td>\n",
       "    </tr>\n",
       "    <tr>\n",
       "      <th>3</th>\n",
       "      <td>-0.647429</td>\n",
       "      <td>3.352457</td>\n",
       "    </tr>\n",
       "    <tr>\n",
       "      <th>4</th>\n",
       "      <td>-0.720605</td>\n",
       "      <td>3.021825</td>\n",
       "    </tr>\n",
       "    <tr>\n",
       "      <th>...</th>\n",
       "      <td>...</td>\n",
       "      <td>...</td>\n",
       "    </tr>\n",
       "    <tr>\n",
       "      <th>1995</th>\n",
       "      <td>-2.530603</td>\n",
       "      <td>-0.818551</td>\n",
       "    </tr>\n",
       "    <tr>\n",
       "      <th>1996</th>\n",
       "      <td>-2.215381</td>\n",
       "      <td>-1.209822</td>\n",
       "    </tr>\n",
       "    <tr>\n",
       "      <th>1997</th>\n",
       "      <td>-2.442301</td>\n",
       "      <td>-1.380056</td>\n",
       "    </tr>\n",
       "    <tr>\n",
       "      <th>1998</th>\n",
       "      <td>-2.314298</td>\n",
       "      <td>-1.059298</td>\n",
       "    </tr>\n",
       "    <tr>\n",
       "      <th>1999</th>\n",
       "      <td>-2.132341</td>\n",
       "      <td>-2.763886</td>\n",
       "    </tr>\n",
       "  </tbody>\n",
       "</table>\n",
       "<p>2000 rows × 2 columns</p>\n",
       "</div>"
      ],
      "text/plain": [
       "      principal component 1  principal component 2\n",
       "0                 -0.715117               1.681908\n",
       "1                 -1.350328               1.889579\n",
       "2                 -1.007927               2.394590\n",
       "3                 -0.647429               3.352457\n",
       "4                 -0.720605               3.021825\n",
       "...                     ...                    ...\n",
       "1995              -2.530603              -0.818551\n",
       "1996              -2.215381              -1.209822\n",
       "1997              -2.442301              -1.380056\n",
       "1998              -2.314298              -1.059298\n",
       "1999              -2.132341              -2.763886\n",
       "\n",
       "[2000 rows x 2 columns]"
      ]
     },
     "execution_count": 11,
     "metadata": {},
     "output_type": "execute_result"
    }
   ],
   "source": [
    "pca_data_Df = pd.DataFrame(data = principalComponents_data\n",
    "             , columns = ['principal component 1', 'principal component 2'])\n",
    "pca_data_Df"
   ]
  },
  {
   "cell_type": "code",
   "execution_count": 12,
   "metadata": {},
   "outputs": [
    {
     "name": "stdout",
     "output_type": "stream",
     "text": [
      "Explained variation per principal component: [0.48507713 0.24453659]\n"
     ]
    }
   ],
   "source": [
    "print('Explained variation per principal component: {}'.format(pca_model.explained_variance_ratio_))\n"
   ]
  },
  {
   "cell_type": "code",
   "execution_count": 13,
   "metadata": {},
   "outputs": [
    {
     "data": {
      "text/plain": [
       "array([1, 2, 3, 4], dtype=int64)"
      ]
     },
     "execution_count": 13,
     "metadata": {},
     "output_type": "execute_result"
    }
   ],
   "source": [
    "labels = data['y'].unique()\n",
    "labels"
   ]
  },
  {
   "cell_type": "code",
   "execution_count": 14,
   "metadata": {},
   "outputs": [],
   "source": [
    "clf = IsolationForest(random_state=0).fit(pca_data_Df)\n",
    "pca_data_Df['y'] = clf.predict(pca_data_Df)\n"
   ]
  },
  {
   "cell_type": "code",
   "execution_count": 15,
   "metadata": {},
   "outputs": [
    {
     "name": "stderr",
     "output_type": "stream",
     "text": [
      "C:\\Users\\5VIN\\.conda\\envs\\tfp\\lib\\site-packages\\seaborn\\axisgrid.py:316: UserWarning: The `size` parameter has been renamed to `height`; please update your code.\n",
      "  warnings.warn(msg, UserWarning)\n"
     ]
    },
    {
     "data": {
      "image/png": "[encoded data removed]",
      "text/plain": [
       "<Figure size 478x432 with 1 Axes>"
      ]
     },
     "metadata": {
      "needs_background": "light"
     },
     "output_type": "display_data"
    }
   ],
   "source": [
    "g = sns.FacetGrid(pca_data_Df, hue=\"y\",  size=6).map(plt.scatter,'principal component 1','principal component 2').add_legend()"
   ]
  },
  {
   "cell_type": "code",
   "execution_count": 16,
   "metadata": {},
   "outputs": [
    {
     "data": {
      "text/plain": [
       "array([1, 2, 3, 4], dtype=int64)"
      ]
     },
     "execution_count": 16,
     "metadata": {},
     "output_type": "execute_result"
    }
   ],
   "source": [
    "X = pca_data_Df.drop('y',axis=1)\n",
    "y = data.y\n",
    "y.unique()"
   ]
  },
  {
   "cell_type": "code",
   "execution_count": 17,
   "metadata": {},
   "outputs": [],
   "source": [
    "# test_size: what proportion of original data is used for test set\n",
    "train_X, test_X, train_y, test_y = train_test_split( X, y, test_size=0.2, random_state=0)"
   ]
  },
  {
   "cell_type": "code",
   "execution_count": 18,
   "metadata": {},
   "outputs": [],
   "source": [
    "'''\n",
    "Create ROC Curve. \n",
    "'''\n",
    "def runClassifiers(listX, listTestX, listTestCF, CF,model, c, m_name):\n",
    "    #CLASS ARRAY, STORES ALL CLASSES\n",
    "    cf = np.array(CF)\n",
    "    cfTest = np.array(listTestCF)\n",
    "    #Convert to Array\n",
    "    X = np.array(listX)\n",
    "    TestX = np.array(listTestX)\n",
    "\n",
    "    #SVM GATHER DATA\n",
    "    #PREDICT PROBABILITY SCORE = 2D ARRAY FOR EACH PREDICTION\n",
    "    model.fit(X, cf)\n",
    "    predictedprobmodel = model.predict_proba(TestX)\n",
    "    #GET ROC DATA\n",
    "    fpr, tpr, thresholds = roc_curve(cfTest, predictedprobmodel[:,1], pos_label=2)\n",
    "    roc_auc = auc(fpr, tpr)\n",
    "   \n",
    "    plt.plot(fpr, tpr, color=c, lw=2, label=f'{m_name} ROC area = %0.2f' % roc_auc)\n"
   ]
  },
  {
   "cell_type": "code",
   "execution_count": 19,
   "metadata": {},
   "outputs": [
    {
     "data": {
      "image/png": "[encoded data removed]",
      "text/plain": [
       "<Figure size 432x288 with 1 Axes>"
      ]
     },
     "metadata": {
      "needs_background": "light"
     },
     "output_type": "display_data"
    }
   ],
   "source": [
    "\n",
    "#GRAPH DATA\n",
    "plt.figure()\n",
    "plt.xlabel('False Positive Rate')\n",
    "plt.ylabel('True Positive Rate')\n",
    "plt.plot([0, 1], [0, 1], color='navy', linestyle='--')\n",
    "plt.xlim([0.0, 1.0])\n",
    "plt.ylim([0.0, 1.05])\n",
    "plt.title('Classifiers ROC')\n",
    "    \n",
    "rbf_svc = SVC(kernel='rbf', gamma=0.00001, C=500,probability=True)\n",
    "runClassifiers(train_X, test_X, test_y, train_y, rbf_svc,'blue', 'SVM')\n",
    "\n",
    "neigh = KNeighborsClassifier(n_neighbors=3)\n",
    "runClassifiers(train_X, test_X, test_y, train_y, neigh, 'red', 'KNN')\n",
    "\n",
    "from sklearn.ensemble import RandomForestClassifier\n",
    "ran_clf = RandomForestClassifier(max_depth=2, random_state=0)\n",
    "runClassifiers(train_X, test_X, test_y, train_y, ran_clf, 'GREEN', 'RF')\n",
    "\n",
    "\n",
    "\n",
    "estimators = [\n",
    "     ('rf', ran_clf),\n",
    "     ('svm', make_pipeline(StandardScaler(),\n",
    "                           rbf_svc))]\n",
    "\n",
    "from sklearn.ensemble import StackingClassifier\n",
    "Stacking_clf = StackingClassifier(estimators=estimators, final_estimator=LogisticRegression())\n",
    "runClassifiers(train_X, test_X, test_y, train_y, Stacking_clf, 'black', 'Stacking')\n",
    "\n",
    "plt.legend(loc=\"lower right\")\n",
    "plt.show()"
   ]
  },
  {
   "cell_type": "code",
   "execution_count": 20,
   "metadata": {},
   "outputs": [],
   "source": [
    "\n",
    "\n",
    "def PrecisionRecallCurve(train_X, test_X, test_y, train_y,model,c,m_name):\n",
    "    train_X = np.array(train_X)\n",
    "    test_X = np.array(test_X)\n",
    "    test_y = np.array(test_y)\n",
    "    train_y = np.array(train_y)\n",
    "\n",
    "    model.fit(train_X, train_y)\n",
    "    # predict probabilities\n",
    "    lr_probs = model.predict_proba(test_X)\n",
    "    # keep probabilities for the positive outcome only\n",
    "    lr_probs = lr_probs[:, 1]\n",
    "    # predict class values\n",
    "    yhat = model.predict(test_X)\n",
    "    lr_precision, lr_recall, _ = roc_curve(test_y, lr_probs, pos_label=2)\n",
    "    lr_f1, lr_auc = f1_score(test_y, yhat,average='weighted'), auc(lr_recall, lr_precision)\n",
    "    # summarize scores\n",
    "    print(f'{m_name}: f1=%.3f auc=%.3f' % (lr_f1, lr_auc))\n",
    "    # plot the precision-recall curves\n",
    "    no_skill = len(test_y[test_y==1]) / len(test_y)\n",
    "    plt.plot(lr_recall, lr_precision, marker='.', label=f'{m_name} = %0.2f' % lr_f1)\n",
    "    \n"
   ]
  },
  {
   "cell_type": "code",
   "execution_count": 21,
   "metadata": {},
   "outputs": [
    {
     "name": "stdout",
     "output_type": "stream",
     "text": [
      "SVM: f1=0.923 auc=0.003\n",
      "KNN: f1=0.916 auc=0.024\n",
      "RF: f1=0.897 auc=0.018\n",
      "Stacking: f1=0.918 auc=0.004\n"
     ]
    },
    {
     "data": {
      "image/png": "[encoded data removed]",
      "text/plain": [
       "<Figure size 432x288 with 1 Axes>"
      ]
     },
     "metadata": {
      "needs_background": "light"
     },
     "output_type": "display_data"
    }
   ],
   "source": [
    "\n",
    "#GRAPH DATA\n",
    "plt.figure()\n",
    "# axis labels\n",
    "plt.xlabel('Recall')\n",
    "plt.ylabel('Precision')\n",
    "plt.plot([0, 1], [0, 1], color='navy', linestyle='--')\n",
    "plt.xlim([0.0, 1.0])\n",
    "plt.ylim([0.0, 1.05])\n",
    "plt.title('Precision-Recall Curve')\n",
    "\n",
    "rbf_svc = SVC(kernel='rbf', gamma=0.00001, C=500,probability=True)\n",
    "PrecisionRecallCurve(train_X, test_X, test_y, train_y, rbf_svc,'blue', 'SVM')\n",
    "\n",
    "neigh = KNeighborsClassifier(n_neighbors=3)\n",
    "PrecisionRecallCurve(train_X, test_X, test_y, train_y, neigh, 'red', 'KNN')\n",
    "\n",
    "from sklearn.ensemble import RandomForestClassifier\n",
    "ran_clf = RandomForestClassifier(max_depth=2, random_state=0)\n",
    "PrecisionRecallCurve(train_X, test_X, test_y, train_y, ran_clf, 'GREEN', 'RF')\n",
    "\n",
    "\n",
    "estimators = [\n",
    "     ('rf', ran_clf),\n",
    "     ('svm', make_pipeline(StandardScaler(),\n",
    "                           rbf_svc))]\n",
    "\n",
    "Stacking_clf = StackingClassifier(estimators=estimators, final_estimator=LogisticRegression())\n",
    "PrecisionRecallCurve(train_X, test_X, test_y, train_y, Stacking_clf, 'black', 'Stacking')\n",
    "\n",
    "# show the legend\n",
    "plt.legend()\n",
    "# show the plot\n",
    "plt.show()"
   ]
  },
  {
   "cell_type": "code",
   "execution_count": 22,
   "metadata": {},
   "outputs": [
    {
     "name": "stderr",
     "output_type": "stream",
     "text": [
      "C:\\Users\\5VIN\\.conda\\envs\\tfp\\lib\\site-packages\\ipykernel_launcher.py:3: SettingWithCopyWarning: \n",
      "A value is trying to be set on a copy of a slice from a DataFrame.\n",
      "Try using .loc[row_indexer,col_indexer] = value instead\n",
      "\n",
      "See the caveats in the documentation: https://pandas.pydata.org/pandas-docs/stable/user_guide/indexing.html#returning-a-view-versus-a-copy\n",
      "  This is separate from the ipykernel package so we can avoid doing imports until\n"
     ]
    }
   ],
   "source": [
    "clf = IsolationForest(random_state=0).fit(train_X)\n",
    "Result = clf.predict(test_X)\n",
    "test_X['Result'] = Result"
   ]
  },
  {
   "cell_type": "code",
   "execution_count": 23,
   "metadata": {},
   "outputs": [
    {
     "name": "stderr",
     "output_type": "stream",
     "text": [
      "C:\\Users\\5VIN\\.conda\\envs\\tfp\\lib\\site-packages\\seaborn\\axisgrid.py:316: UserWarning: The `size` parameter has been renamed to `height`; please update your code.\n",
      "  warnings.warn(msg, UserWarning)\n"
     ]
    },
    {
     "data": {
      "text/plain": [
       "<seaborn.axisgrid.FacetGrid at 0x1b9974600b8>"
      ]
     },
     "execution_count": 23,
     "metadata": {},
     "output_type": "execute_result"
    },
    {
     "data": {
      "image/png": "[encoded data removed]",
      "text/plain": [
       "<Figure size 478x432 with 1 Axes>"
      ]
     },
     "metadata": {
      "needs_background": "light"
     },
     "output_type": "display_data"
    }
   ],
   "source": [
    "sns.FacetGrid(test_X, hue=\"Result\",  size=6).map(plt.scatter,'principal component 1','principal component 2').add_legend()"
   ]
  },
  {
   "cell_type": "code",
   "execution_count": null,
   "metadata": {},
   "outputs": [],
   "source": []
  }
 ],
 "metadata": {
  "kernelspec": {
   "display_name": "Python 3",
   "language": "python",
   "name": "python3"
  },
  "language_info": {
   "codemirror_mode": {
    "name": "ipython",
    "version": 3
   },
   "file_extension": ".py",
   "mimetype": "text/x-python",
   "name": "python",
   "nbconvert_exporter": "python",
   "pygments_lexer": "ipython3",
   "version": "3.6.12"
  }
 },
 "nbformat": 4,
 "nbformat_minor": 4
}
